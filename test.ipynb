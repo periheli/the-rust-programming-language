{
 "cells": [
  {
   "cell_type": "code",
   "execution_count": 1,
   "id": "8fd73061",
   "metadata": {},
   "outputs": [],
   "source": [
    "def foo(a: list[int]):\n",
    "    a = 123\n",
    "    \n",
    "\n",
    "b = [1, 2, 3]\n",
    "foo(b)"
   ]
  },
  {
   "cell_type": "code",
   "execution_count": 1,
   "id": "08cf7690",
   "metadata": {},
   "outputs": [
    {
     "data": {
      "text/plain": [
       "3"
      ]
     },
     "execution_count": 1,
     "metadata": {},
     "output_type": "execute_result"
    }
   ],
   "source": [
    "container = []\n",
    "container.append(container)\n",
    "\n",
    "import sys\n",
    "\n",
    "sys.getrefcount(container)"
   ]
  },
  {
   "cell_type": "code",
   "execution_count": 2,
   "id": "b3d38650",
   "metadata": {},
   "outputs": [
    {
     "name": "stdout",
     "output_type": "stream",
     "text": [
      "3\n"
     ]
    },
    {
     "ename": "NameError",
     "evalue": "name 'container' is not defined",
     "output_type": "error",
     "traceback": [
      "\u001b[0;31m---------------------------------------------------------------------------\u001b[0m",
      "\u001b[0;31mNameError\u001b[0m                                 Traceback (most recent call last)",
      "Cell \u001b[0;32mIn[2], line 3\u001b[0m\n\u001b[1;32m      1\u001b[0m \u001b[38;5;28mprint\u001b[39m(sys\u001b[38;5;241m.\u001b[39mgetrefcount(container))\n\u001b[1;32m      2\u001b[0m \u001b[38;5;28;01mdel\u001b[39;00m container\n\u001b[0;32m----> 3\u001b[0m \u001b[38;5;28mprint\u001b[39m(sys\u001b[38;5;241m.\u001b[39mgetrefcount(\u001b[43mcontainer\u001b[49m))\n",
      "\u001b[0;31mNameError\u001b[0m: name 'container' is not defined"
     ]
    }
   ],
   "source": [
    "print(sys.getrefcount(container))\n",
    "del container\n",
    "print(sys.getrefcount(container))"
   ]
  },
  {
   "cell_type": "code",
   "execution_count": null,
   "id": "2d2d8e9b",
   "metadata": {},
   "outputs": [],
   "source": []
  }
 ],
 "metadata": {
  "kernelspec": {
   "display_name": "Python 3",
   "language": "python",
   "name": "python3"
  },
  "language_info": {
   "codemirror_mode": {
    "name": "ipython",
    "version": 3
   },
   "file_extension": ".py",
   "mimetype": "text/x-python",
   "name": "python",
   "nbconvert_exporter": "python",
   "pygments_lexer": "ipython3",
   "version": "3.12.3"
  }
 },
 "nbformat": 4,
 "nbformat_minor": 5
}
